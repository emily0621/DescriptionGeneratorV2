{
 "cells": [
  {
   "cell_type": "code",
   "execution_count": 1,
   "outputs": [],
   "source": [
    "import os\n",
    "import json\n",
    "from tqdm import tqdm\n",
    "import pandas as pd\n",
    "from notebooks.utils import logger, file_with_timestamp\n",
    "from notebooks.config import DATASET_PATH, CHUNK_SIZE, FILTERED_DATASET_DIRECTORY, FILTER_RULES_PATH"
   ],
   "metadata": {
    "collapsed": false,
    "ExecuteTime": {
     "end_time": "2024-05-09T12:48:23.276093800Z",
     "start_time": "2024-05-09T12:48:22.371892700Z"
    }
   }
  },
  {
   "cell_type": "code",
   "execution_count": 2,
   "outputs": [],
   "source": [
    "logger = logger()\n",
    "\n",
    "if not os.path.exists(FILTERED_DATASET_DIRECTORY):\n",
    "    os.makedirs(FILTERED_DATASET_DIRECTORY)"
   ],
   "metadata": {
    "collapsed": false,
    "pycharm": {
     "name": "#%%\n"
    },
    "ExecuteTime": {
     "end_time": "2024-04-07T15:20:24.532189200Z",
     "start_time": "2024-04-07T15:20:24.519506400Z"
    }
   }
  },
  {
   "cell_type": "markdown",
   "source": [
    "<h4>Read dataset</h4>"
   ],
   "metadata": {
    "collapsed": false,
    "pycharm": {
     "name": "#%% md\n"
    }
   }
  },
  {
   "cell_type": "code",
   "execution_count": 3,
   "outputs": [
    {
     "data": {
      "text/plain": "                                                   0  \\\n0             christmas tree on a black background .   \n1    item : drawing of a figure surrounded by person   \n2  the sidewalk near the corner of streets has on...   \n3                  actor attends the season premiere   \n4  another possible invitation -- love the font ,...   \n\n                                                   1  \\\n0  https://thumb1.shutterstock.com/display_pic_wi...   \n1  https://i.pinimg.com/736x/f9/fd/48/f9fd4878090...   \n2  http://s3-us-west-2.amazonaws.com/ktoo/2017/08...   \n3  https://media.gettyimages.com/photos/aidan-gil...   \n4  https://i.pinimg.com/736x/c1/c3/3a/c1c33aed458...   \n\n                                                   2  \\\n0  christmas tree,christmas decoration,font,text,...   \n1  drawing,modern art,line,visual arts,art,sketch...   \n2  mode of transport,transport,vehicle,street,nei...   \n3    musician,premiere,event,singer,suit,performance   \n4                  text,font,material property,label   \n\n                                                   3  \\\n0  /m/025nd,/m/05fc9mj,/m/03gq5hm,/m/07s6nbt,/m/0...   \n1  /m/02csf,/m/015r61,/m/03scnj,/m/0p9xx,/m/0jjw,...   \n2  /m/079bkr,/m/07bsy,/m/07yv9,/m/01c8br,/m/0180x...   \n3  /m/09jwl,/m/03n3f3,/m/081pkj,/m/09l65,/m/01xyh...   \n4        /m/07s6nbt,/m/03gq5hm,/m/0457gc6,/m/05c0n6k   \n\n                                                   4  \n0  0.9818305373191833,0.952756941318512,0.9227379...  \n1  0.8945257067680359,0.8489813804626465,0.828646...  \n2  0.8588771224021912,0.8513096570968628,0.783954...  \n3  0.8445718288421631,0.8338453769683838,0.670432...  \n4  0.9419509172439575,0.8490258455276489,0.699199...  ",
      "text/html": "<div>\n<style scoped>\n    .dataframe tbody tr th:only-of-type {\n        vertical-align: middle;\n    }\n\n    .dataframe tbody tr th {\n        vertical-align: top;\n    }\n\n    .dataframe thead th {\n        text-align: right;\n    }\n</style>\n<table border=\"1\" class=\"dataframe\">\n  <thead>\n    <tr style=\"text-align: right;\">\n      <th></th>\n      <th>0</th>\n      <th>1</th>\n      <th>2</th>\n      <th>3</th>\n      <th>4</th>\n    </tr>\n  </thead>\n  <tbody>\n    <tr>\n      <th>0</th>\n      <td>christmas tree on a black background .</td>\n      <td>https://thumb1.shutterstock.com/display_pic_wi...</td>\n      <td>christmas tree,christmas decoration,font,text,...</td>\n      <td>/m/025nd,/m/05fc9mj,/m/03gq5hm,/m/07s6nbt,/m/0...</td>\n      <td>0.9818305373191833,0.952756941318512,0.9227379...</td>\n    </tr>\n    <tr>\n      <th>1</th>\n      <td>item : drawing of a figure surrounded by person</td>\n      <td>https://i.pinimg.com/736x/f9/fd/48/f9fd4878090...</td>\n      <td>drawing,modern art,line,visual arts,art,sketch...</td>\n      <td>/m/02csf,/m/015r61,/m/03scnj,/m/0p9xx,/m/0jjw,...</td>\n      <td>0.8945257067680359,0.8489813804626465,0.828646...</td>\n    </tr>\n    <tr>\n      <th>2</th>\n      <td>the sidewalk near the corner of streets has on...</td>\n      <td>http://s3-us-west-2.amazonaws.com/ktoo/2017/08...</td>\n      <td>mode of transport,transport,vehicle,street,nei...</td>\n      <td>/m/079bkr,/m/07bsy,/m/07yv9,/m/01c8br,/m/0180x...</td>\n      <td>0.8588771224021912,0.8513096570968628,0.783954...</td>\n    </tr>\n    <tr>\n      <th>3</th>\n      <td>actor attends the season premiere</td>\n      <td>https://media.gettyimages.com/photos/aidan-gil...</td>\n      <td>musician,premiere,event,singer,suit,performance</td>\n      <td>/m/09jwl,/m/03n3f3,/m/081pkj,/m/09l65,/m/01xyh...</td>\n      <td>0.8445718288421631,0.8338453769683838,0.670432...</td>\n    </tr>\n    <tr>\n      <th>4</th>\n      <td>another possible invitation -- love the font ,...</td>\n      <td>https://i.pinimg.com/736x/c1/c3/3a/c1c33aed458...</td>\n      <td>text,font,material property,label</td>\n      <td>/m/07s6nbt,/m/03gq5hm,/m/0457gc6,/m/05c0n6k</td>\n      <td>0.9419509172439575,0.8490258455276489,0.699199...</td>\n    </tr>\n  </tbody>\n</table>\n</div>"
     },
     "execution_count": 3,
     "metadata": {},
     "output_type": "execute_result"
    }
   ],
   "source": [
    "def df_chunks():\n",
    "    return pd.read_csv(DATASET_PATH, sep='\\t', header=None, chunksize=CHUNK_SIZE)\n",
    "\n",
    "df_chunks().read(5).head()"
   ],
   "metadata": {
    "collapsed": false,
    "pycharm": {
     "name": "#%%\n"
    },
    "ExecuteTime": {
     "end_time": "2024-04-07T15:20:24.603704800Z",
     "start_time": "2024-04-07T15:20:24.527070Z"
    }
   }
  },
  {
   "cell_type": "markdown",
   "source": [
    "<h4>Filter dataset</h4>"
   ],
   "metadata": {
    "collapsed": false
   }
  },
  {
   "cell_type": "code",
   "execution_count": 4,
   "outputs": [],
   "source": [
    "with open(FILTER_RULES_PATH, 'r') as file:\n",
    "    filter_rules = json.load(file)\n",
    "    filter_rules['include'] = set(filter_rules['include'])\n",
    "    filter_rules['exclude'] = set(filter_rules['exclude'])\n",
    "    filter_rules['excludeDomains'] = set(filter_rules['excludeDomains'])\n",
    "\n",
    "def leave_in_dataset(image_labels):\n",
    "    for include in filter_rules['include']:\n",
    "        if include in image_labels:\n",
    "            for label in image_labels:\n",
    "                if label in filter_rules['exclude']:\n",
    "                    return False\n",
    "            return True\n",
    "    return False"
   ],
   "metadata": {
    "collapsed": false,
    "pycharm": {
     "name": "#%%\n"
    },
    "ExecuteTime": {
     "end_time": "2024-04-04T16:53:14.717962600Z",
     "start_time": "2024-04-04T16:53:14.691961700Z"
    }
   }
  },
  {
   "cell_type": "code",
   "execution_count": 5,
   "outputs": [
    {
     "name": "stderr",
     "output_type": "stream",
     "text": [
      "\u001B[32m2024-04-04 19:53:16,333 - INFO - Chunk #1\u001B[0m\n",
      "100%|██████████| 100000/100000 [00:03<00:00, 28028.50it/s]\n",
      "\u001B[32m2024-04-04 19:53:20,570 - INFO - Chunk #2\u001B[0m\n",
      "100%|██████████| 100000/100000 [00:03<00:00, 27874.41it/s]\n",
      "\u001B[32m2024-04-04 19:53:24,801 - INFO - Chunk #3\u001B[0m\n",
      "100%|██████████| 100000/100000 [00:03<00:00, 27602.07it/s]\n",
      "\u001B[32m2024-04-04 19:53:29,168 - INFO - Chunk #4\u001B[0m\n",
      "100%|██████████| 100000/100000 [00:03<00:00, 27853.38it/s]\n",
      "\u001B[32m2024-04-04 19:53:33,356 - INFO - Chunk #5\u001B[0m\n",
      "100%|██████████| 100000/100000 [00:03<00:00, 27926.18it/s]\n",
      "\u001B[32m2024-04-04 19:53:37,590 - INFO - Chunk #6\u001B[0m\n",
      "100%|██████████| 100000/100000 [00:03<00:00, 28087.20it/s]\n",
      "\u001B[32m2024-04-04 19:53:41,794 - INFO - Chunk #7\u001B[0m\n",
      "100%|██████████| 100000/100000 [00:03<00:00, 27597.06it/s]\n",
      "\u001B[32m2024-04-04 19:53:46,064 - INFO - Chunk #8\u001B[0m\n",
      "100%|██████████| 100000/100000 [00:03<00:00, 27086.10it/s]\n",
      "\u001B[32m2024-04-04 19:53:50,375 - INFO - Chunk #9\u001B[0m\n",
      "100%|██████████| 100000/100000 [00:03<00:00, 27720.03it/s]\n",
      "\u001B[32m2024-04-04 19:53:54,576 - INFO - Chunk #10\u001B[0m\n",
      "100%|██████████| 100000/100000 [00:03<00:00, 27912.43it/s]\n",
      "\u001B[32m2024-04-04 19:53:58,802 - INFO - Chunk #11\u001B[0m\n",
      "100%|██████████| 100000/100000 [00:03<00:00, 27707.15it/s]\n",
      "\u001B[32m2024-04-04 19:54:03,017 - INFO - Chunk #12\u001B[0m\n",
      "100%|██████████| 100000/100000 [00:03<00:00, 28081.13it/s]\n",
      "\u001B[32m2024-04-04 19:54:07,231 - INFO - Chunk #13\u001B[0m\n",
      "100%|██████████| 100000/100000 [00:03<00:00, 27920.16it/s]\n",
      "\u001B[32m2024-04-04 19:54:11,411 - INFO - Chunk #14\u001B[0m\n",
      "100%|██████████| 100000/100000 [00:03<00:00, 27722.83it/s]\n",
      "\u001B[32m2024-04-04 19:54:15,668 - INFO - Chunk #15\u001B[0m\n",
      "100%|██████████| 100000/100000 [00:03<00:00, 27870.93it/s]\n",
      "\u001B[32m2024-04-04 19:54:19,952 - INFO - Chunk #16\u001B[0m\n",
      "100%|██████████| 100000/100000 [00:03<00:00, 27765.34it/s]\n",
      "\u001B[32m2024-04-04 19:54:24,160 - INFO - Chunk #17\u001B[0m\n",
      "100%|██████████| 100000/100000 [00:03<00:00, 27331.77it/s]\n",
      "\u001B[32m2024-04-04 19:54:28,480 - INFO - Chunk #18\u001B[0m\n",
      "100%|██████████| 100000/100000 [00:03<00:00, 27687.46it/s]\n",
      "\u001B[32m2024-04-04 19:54:32,734 - INFO - Chunk #19\u001B[0m\n",
      "100%|██████████| 100000/100000 [00:03<00:00, 28029.04it/s]\n",
      "\u001B[32m2024-04-04 19:54:36,910 - INFO - Chunk #20\u001B[0m\n",
      "100%|██████████| 100000/100000 [00:03<00:00, 27543.75it/s]\n",
      "\u001B[32m2024-04-04 19:54:40,610 - INFO - Chunk #21\u001B[0m\n",
      "100%|██████████| 7528/7528 [00:00<00:00, 26816.87it/s]\n"
     ]
    },
    {
     "data": {
      "text/plain": "                                                    0  \\\n5                a woman walks her dog on the beach .   \n6   using shrubs and hedges as fences is a very po...   \n7    a beautiful day with some buildings and plants .   \n30  giraffes explore the newly extended plains of ...   \n31                         after the fall - the riots   \n\n                                                    1  \\\n5   https://media.gettyimages.com/photos/woman-wal...   \n6                               http://ift.tt/1URq5fp   \n7   https://d1tq208oegmb9e.cloudfront.net/site_pho...   \n30  http://images.archant.co.uk/polopoly_fs/1.5091...   \n31  https://i.pinimg.com/736x/04/51/b5/0451b578557...   \n\n                                                    2  \\\n5   water,beach,sea,shore,ocean,canidae,dog,sky,wa...   \n6   garden,shrub,tree,natural landscape,grass,bota...   \n7   residential area,property,home,building,house,...   \n30  terrestrial animal,giraffe,vertebrate,wildlife...   \n31  smoke,stunt performer,sky,fun,event,photograph...   \n\n                                                    3  \\\n5   /m/0838f,/m/0b3yr,/m/06npx,/m/02fm9k,/m/05kq4,...   \n6   /m/0bl0l,/m/0gqbt,/m/07j7r,/m/03d28y3,/m/08t9c...   \n7   /m/02nfxt,/m/05wrt,/m/01l0mw,/m/0cgh4,/m/03jm5...   \n30  /m/0fbf1m,/m/03bk1,/m/09686,/m/01280g,/m/01v46...   \n31  /m/06q40,/m/01tkqy,/m/01bqvp,/m/0ds99lh,/m/081...   \n\n                                                    4  \n5   0.9512578248977661,0.9311308860778809,0.916622...  \n6   0.9539984464645386,0.9404484033584595,0.888916...  \n7   0.9630937576293945,0.9594130516052246,0.942743...  \n30  0.9922448396682739,0.9903286099433899,0.985110...  \n31  0.7935611605644226,0.7750824689865112,0.732611...  ",
      "text/html": "<div>\n<style scoped>\n    .dataframe tbody tr th:only-of-type {\n        vertical-align: middle;\n    }\n\n    .dataframe tbody tr th {\n        vertical-align: top;\n    }\n\n    .dataframe thead th {\n        text-align: right;\n    }\n</style>\n<table border=\"1\" class=\"dataframe\">\n  <thead>\n    <tr style=\"text-align: right;\">\n      <th></th>\n      <th>0</th>\n      <th>1</th>\n      <th>2</th>\n      <th>3</th>\n      <th>4</th>\n    </tr>\n  </thead>\n  <tbody>\n    <tr>\n      <th>5</th>\n      <td>a woman walks her dog on the beach .</td>\n      <td>https://media.gettyimages.com/photos/woman-wal...</td>\n      <td>water,beach,sea,shore,ocean,canidae,dog,sky,wa...</td>\n      <td>/m/0838f,/m/0b3yr,/m/06npx,/m/02fm9k,/m/05kq4,...</td>\n      <td>0.9512578248977661,0.9311308860778809,0.916622...</td>\n    </tr>\n    <tr>\n      <th>6</th>\n      <td>using shrubs and hedges as fences is a very po...</td>\n      <td>http://ift.tt/1URq5fp</td>\n      <td>garden,shrub,tree,natural landscape,grass,bota...</td>\n      <td>/m/0bl0l,/m/0gqbt,/m/07j7r,/m/03d28y3,/m/08t9c...</td>\n      <td>0.9539984464645386,0.9404484033584595,0.888916...</td>\n    </tr>\n    <tr>\n      <th>7</th>\n      <td>a beautiful day with some buildings and plants .</td>\n      <td>https://d1tq208oegmb9e.cloudfront.net/site_pho...</td>\n      <td>residential area,property,home,building,house,...</td>\n      <td>/m/02nfxt,/m/05wrt,/m/01l0mw,/m/0cgh4,/m/03jm5...</td>\n      <td>0.9630937576293945,0.9594130516052246,0.942743...</td>\n    </tr>\n    <tr>\n      <th>30</th>\n      <td>giraffes explore the newly extended plains of ...</td>\n      <td>http://images.archant.co.uk/polopoly_fs/1.5091...</td>\n      <td>terrestrial animal,giraffe,vertebrate,wildlife...</td>\n      <td>/m/0fbf1m,/m/03bk1,/m/09686,/m/01280g,/m/01v46...</td>\n      <td>0.9922448396682739,0.9903286099433899,0.985110...</td>\n    </tr>\n    <tr>\n      <th>31</th>\n      <td>after the fall - the riots</td>\n      <td>https://i.pinimg.com/736x/04/51/b5/0451b578557...</td>\n      <td>smoke,stunt performer,sky,fun,event,photograph...</td>\n      <td>/m/06q40,/m/01tkqy,/m/01bqvp,/m/0ds99lh,/m/081...</td>\n      <td>0.7935611605644226,0.7750824689865112,0.732611...</td>\n    </tr>\n  </tbody>\n</table>\n</div>"
     },
     "execution_count": 5,
     "metadata": {},
     "output_type": "execute_result"
    }
   ],
   "source": [
    "filtered_chunks = []\n",
    "\n",
    "for i, dataset in enumerate(df_chunks()):\n",
    "    dataset[5] = False\n",
    "    logger.info(\"Chunk #{}\".format(i + 1))\n",
    "    for index, row in tqdm(dataset.iterrows(), total=dataset.shape[0]):\n",
    "        try:\n",
    "            if type(row[2]) == float:\n",
    "                continue\n",
    "            labels = row[2].split(',')\n",
    "            if leave_in_dataset(labels):\n",
    "                dataset.at[index, 5] = True\n",
    "        except Exception as e:\n",
    "            logger.error(e)\n",
    "            logger.error(row)\n",
    "            break\n",
    "    filtered_chunks.append(dataset[dataset[5] == True].drop(5, axis=1))\n",
    "\n",
    "filtered_dataset = pd.concat(filtered_chunks)\n",
    "filtered_dataset.head()"
   ],
   "metadata": {
    "collapsed": false,
    "pycharm": {
     "name": "#%%\n"
    },
    "ExecuteTime": {
     "end_time": "2024-04-04T16:54:40.943121Z",
     "start_time": "2024-04-04T16:53:15.430669500Z"
    }
   }
  },
  {
   "cell_type": "code",
   "execution_count": 7,
   "outputs": [],
   "source": [
    "filtered_dataset.to_csv(os.path.join(FILTERED_DATASET_DIRECTORY, file_with_timestamp('filtered_dataset.tsv')), sep='\\t', header=False)"
   ],
   "metadata": {
    "collapsed": false,
    "pycharm": {
     "name": "#%%\n"
    },
    "ExecuteTime": {
     "end_time": "2024-04-04T16:55:00.156059500Z",
     "start_time": "2024-04-04T16:54:55.482251700Z"
    }
   }
  },
  {
   "cell_type": "code",
   "execution_count": 12,
   "outputs": [
    {
     "name": "stderr",
     "output_type": "stream",
     "text": [
      "\u001B[32m2024-04-04 20:29:24,618 - INFO - Load dataset info from /home/emiliia/tensorflow_datasets/snli/1.1.0\u001B[0m\n",
      "\u001B[32m2024-04-04 20:29:24,621 - INFO - Reusing dataset snli (/home/emiliia/tensorflow_datasets/snli/1.1.0)\u001B[0m\n",
      "\u001B[32m2024-04-04 20:29:24,623 - INFO - Creating a tf.data.Dataset reading 1 files located in folders: /home/emiliia/tensorflow_datasets/snli/1.1.0.\u001B[0m\n",
      "\u001B[32m2024-04-04 20:29:24,648 - INFO - Constructing tf.data.Dataset snli for split train[:20%], from /home/emiliia/tensorflow_datasets/snli/1.1.0\u001B[0m\n",
      "\u001B[32m2024-04-04 20:29:24,650 - INFO - Load dataset info from /home/emiliia/tensorflow_datasets/snli/1.1.0\u001B[0m\n",
      "\u001B[32m2024-04-04 20:29:24,652 - INFO - Reusing dataset snli (/home/emiliia/tensorflow_datasets/snli/1.1.0)\u001B[0m\n",
      "\u001B[32m2024-04-04 20:29:24,653 - INFO - Creating a tf.data.Dataset reading 1 files located in folders: /home/emiliia/tensorflow_datasets/snli/1.1.0.\u001B[0m\n",
      "\u001B[32m2024-04-04 20:29:24,677 - INFO - Constructing tf.data.Dataset snli for split validation, from /home/emiliia/tensorflow_datasets/snli/1.1.0\u001B[0m\n",
      "\u001B[32m2024-04-04 20:29:24,679 - INFO - Load dataset info from /home/emiliia/tensorflow_datasets/snli/1.1.0\u001B[0m\n",
      "\u001B[32m2024-04-04 20:29:24,681 - INFO - Reusing dataset snli (/home/emiliia/tensorflow_datasets/snli/1.1.0)\u001B[0m\n",
      "\u001B[32m2024-04-04 20:29:24,682 - INFO - Creating a tf.data.Dataset reading 1 files located in folders: /home/emiliia/tensorflow_datasets/snli/1.1.0.\u001B[0m\n",
      "\u001B[32m2024-04-04 20:29:24,708 - INFO - Constructing tf.data.Dataset snli for split test, from /home/emiliia/tensorflow_datasets/snli/1.1.0\u001B[0m\n",
      "2024-04-04 20:29:24.737870: W tensorflow/core/kernels/data/cache_dataset_ops.cc:858] The calling iterator did not fully read the dataset being cached. In order to avoid unexpected truncation of the dataset, the partially cached contents of the dataset  will be discarded. This can happen if you have an input pipeline similar to `dataset.cache().take(k).repeat()`. You should use `dataset.take(k).cache().repeat()` instead.\n"
     ]
    },
    {
     "data": {
      "text/plain": "{'hypothesis': <tf.Tensor: shape=(1,), dtype=string, numpy=array([b'A girl is entertaining on stage'], dtype=object)>,\n 'label': <tf.Tensor: shape=(1,), dtype=int64, numpy=array([0])>,\n 'premise': <tf.Tensor: shape=(1,), dtype=string, numpy=\n array([b'A girl in a blue leotard hula hoops on a stage with balloon shapes in the background.'],\n       dtype=object)>}"
     },
     "execution_count": 12,
     "metadata": {},
     "output_type": "execute_result"
    }
   ],
   "source": [
    "import tensorflow_datasets as tfds\n",
    "\n",
    "def filter_labels(sample):\n",
    "    return sample[\"label\"] >= 0\n",
    "\n",
    "snli_train = tfds.load(\"snli\", split=\"train[:20%]\")\n",
    "snli_val = tfds.load(\"snli\", split=\"validation\")\n",
    "snli_test = tfds.load(\"snli\", split=\"test\")\n",
    "\n",
    "# Here's an example of how our training samples look like, where we randomly select\n",
    "# four samples:\n",
    "sample = snli_test.batch(1).take(1).get_single_element()\n",
    "sample"
   ],
   "metadata": {
    "collapsed": false,
    "ExecuteTime": {
     "end_time": "2024-04-04T17:29:24.786080800Z",
     "start_time": "2024-04-04T17:29:24.615387600Z"
    }
   }
  },
  {
   "cell_type": "code",
   "execution_count": 5,
   "outputs": [],
   "source": [
    "import tensorflow as tf\n",
    "\n",
    "def split_labels(sample):\n",
    "    x = (sample[\"hypothesis\"], sample[\"premise\"])\n",
    "    y = sample[\"label\"]\n",
    "    return x, y\n",
    "\n",
    "\n",
    "train_ds = (\n",
    "    snli_train.filter(filter_labels)\n",
    "    .map(split_labels, num_parallel_calls=tf.data.AUTOTUNE)\n",
    "    .batch(16)\n",
    ")\n",
    "val_ds = (\n",
    "    snli_val.filter(filter_labels)\n",
    "    .map(split_labels, num_parallel_calls=tf.data.AUTOTUNE)\n",
    "    .batch(16)\n",
    ")\n",
    "test_ds = (\n",
    "    snli_test.filter(filter_labels)\n",
    "    .map(split_labels, num_parallel_calls=tf.data.AUTOTUNE)\n",
    "    .batch(16)\n",
    ")"
   ],
   "metadata": {
    "collapsed": false,
    "ExecuteTime": {
     "end_time": "2024-04-04T17:25:28.183392300Z",
     "start_time": "2024-04-04T17:25:28.129503700Z"
    }
   }
  },
  {
   "cell_type": "code",
   "execution_count": 6,
   "outputs": [],
   "source": [
    "from keras_nlp.models import RobertaClassifier\n",
    "\n",
    "classifier = RobertaClassifier.from_preset(\"roberta_base_en\", num_classes=3)"
   ],
   "metadata": {
    "collapsed": false,
    "ExecuteTime": {
     "end_time": "2024-04-04T17:25:32.545854Z",
     "start_time": "2024-04-04T17:25:29.794276700Z"
    }
   }
  },
  {
   "cell_type": "code",
   "execution_count": null,
   "outputs": [],
   "source": [
    "sample = (sample[\"hypothesis\"], sample[\"premise\"])\n",
    "sample"
   ],
   "metadata": {
    "collapsed": false,
    "ExecuteTime": {
     "end_time": "2024-04-04T17:26:08.682772300Z",
     "start_time": "2024-04-04T17:26:08.680259400Z"
    }
   }
  },
  {
   "cell_type": "code",
   "execution_count": null,
   "outputs": [],
   "source": [
    "import numpy as np\n",
    "predictions = classifier.predict(sample)\n",
    "\n",
    "\n",
    "def softmax(x):\n",
    "    return np.exp(x) / np.exp(x).sum(axis=0)\n",
    "\n",
    "\n",
    "# Get the class predictions with maximum probabilities\n",
    "predictions = softmax(predictions)"
   ],
   "metadata": {
    "collapsed": false,
    "ExecuteTime": {
     "start_time": "2024-04-04T17:26:08.682772300Z"
    }
   }
  },
  {
   "cell_type": "code",
   "execution_count": 8,
   "outputs": [
    {
     "name": "stderr",
     "output_type": "stream",
     "text": [
      "/home/emiliia/.local/lib/python3.10/site-packages/keras/src/saving/serialization_lib.py:727: UserWarning: `compile()` was not called as part of model loading because the model's `compile()` method is custom. All subclassed Models that have `compile()` overridden should also override `get_compile_config()` and `compile_from_config(config)`. Alternatively, you can call `compile()` manually after loading.\n",
      "  instance.compile_from_config(compile_config)\n",
      "/home/emiliia/.local/lib/python3.10/site-packages/keras/src/saving/saving_lib.py:396: UserWarning: Skipping variable loading for optimizer 'adam', because it has 2 variables whereas the saved optimizer has 83 variables. \n",
      "  trackable.load_own_variables(weights_store.get(inner_path))\n"
     ]
    },
    {
     "name": "stdout",
     "output_type": "stream",
     "text": [
      "    410/Unknown \u001B[1m20s\u001B[0m 47ms/step - loss: 0.5012 - sparse_categorical_accuracy: 0.8034"
     ]
    },
    {
     "ename": "KeyboardInterrupt",
     "evalue": "",
     "output_type": "error",
     "traceback": [
      "\u001B[0;31m---------------------------------------------------------------------------\u001B[0m",
      "\u001B[0;31mKeyboardInterrupt\u001B[0m                         Traceback (most recent call last)",
      "Cell \u001B[0;32mIn[8], line 4\u001B[0m\n\u001B[1;32m      1\u001B[0m \u001B[38;5;28;01mimport\u001B[39;00m \u001B[38;5;21;01mkeras\u001B[39;00m\n\u001B[1;32m      3\u001B[0m restored_model \u001B[38;5;241m=\u001B[39m keras\u001B[38;5;241m.\u001B[39mmodels\u001B[38;5;241m.\u001B[39mload_model(\u001B[38;5;124m\"\u001B[39m\u001B[38;5;124mmodels/bert_classifier.keras\u001B[39m\u001B[38;5;124m\"\u001B[39m)\n\u001B[0;32m----> 4\u001B[0m \u001B[43mrestored_model\u001B[49m\u001B[38;5;241;43m.\u001B[39;49m\u001B[43mevaluate\u001B[49m\u001B[43m(\u001B[49m\u001B[43mtest_ds\u001B[49m\u001B[43m)\u001B[49m\n",
      "File \u001B[0;32m~/.local/lib/python3.10/site-packages/keras_nlp/src/utils/pipeline_model.py:214\u001B[0m, in \u001B[0;36mPipelineModel.evaluate\u001B[0;34m(self, x, y, batch_size, sample_weight, **kwargs)\u001B[0m\n\u001B[1;32m    210\u001B[0m x \u001B[38;5;241m=\u001B[39m _convert_inputs_to_dataset(x, y, sample_weight, batch_size)\n\u001B[1;32m    211\u001B[0m x \u001B[38;5;241m=\u001B[39m x\u001B[38;5;241m.\u001B[39mmap(\n\u001B[1;32m    212\u001B[0m     \u001B[38;5;28mself\u001B[39m\u001B[38;5;241m.\u001B[39mpreprocess_samples, num_parallel_calls\u001B[38;5;241m=\u001B[39mtf\u001B[38;5;241m.\u001B[39mdata\u001B[38;5;241m.\u001B[39mAUTOTUNE\n\u001B[1;32m    213\u001B[0m )\u001B[38;5;241m.\u001B[39mprefetch(tf\u001B[38;5;241m.\u001B[39mdata\u001B[38;5;241m.\u001B[39mAUTOTUNE)\n\u001B[0;32m--> 214\u001B[0m \u001B[38;5;28;01mreturn\u001B[39;00m \u001B[38;5;28;43msuper\u001B[39;49m\u001B[43m(\u001B[49m\u001B[43m)\u001B[49m\u001B[38;5;241;43m.\u001B[39;49m\u001B[43mevaluate\u001B[49m\u001B[43m(\u001B[49m\n\u001B[1;32m    215\u001B[0m \u001B[43m    \u001B[49m\u001B[43mx\u001B[49m\u001B[38;5;241;43m=\u001B[39;49m\u001B[43mx\u001B[49m\u001B[43m,\u001B[49m\n\u001B[1;32m    216\u001B[0m \u001B[43m    \u001B[49m\u001B[43my\u001B[49m\u001B[38;5;241;43m=\u001B[39;49m\u001B[38;5;28;43;01mNone\u001B[39;49;00m\u001B[43m,\u001B[49m\n\u001B[1;32m    217\u001B[0m \u001B[43m    \u001B[49m\u001B[43mbatch_size\u001B[49m\u001B[38;5;241;43m=\u001B[39;49m\u001B[38;5;28;43;01mNone\u001B[39;49;00m\u001B[43m,\u001B[49m\n\u001B[1;32m    218\u001B[0m \u001B[43m    \u001B[49m\u001B[38;5;241;43m*\u001B[39;49m\u001B[38;5;241;43m*\u001B[39;49m\u001B[43mkwargs\u001B[49m\u001B[43m,\u001B[49m\n\u001B[1;32m    219\u001B[0m \u001B[43m\u001B[49m\u001B[43m)\u001B[49m\n",
      "File \u001B[0;32m~/.local/lib/python3.10/site-packages/keras/src/utils/traceback_utils.py:117\u001B[0m, in \u001B[0;36mfilter_traceback.<locals>.error_handler\u001B[0;34m(*args, **kwargs)\u001B[0m\n\u001B[1;32m    115\u001B[0m filtered_tb \u001B[38;5;241m=\u001B[39m \u001B[38;5;28;01mNone\u001B[39;00m\n\u001B[1;32m    116\u001B[0m \u001B[38;5;28;01mtry\u001B[39;00m:\n\u001B[0;32m--> 117\u001B[0m     \u001B[38;5;28;01mreturn\u001B[39;00m \u001B[43mfn\u001B[49m\u001B[43m(\u001B[49m\u001B[38;5;241;43m*\u001B[39;49m\u001B[43margs\u001B[49m\u001B[43m,\u001B[49m\u001B[43m \u001B[49m\u001B[38;5;241;43m*\u001B[39;49m\u001B[38;5;241;43m*\u001B[39;49m\u001B[43mkwargs\u001B[49m\u001B[43m)\u001B[49m\n\u001B[1;32m    118\u001B[0m \u001B[38;5;28;01mexcept\u001B[39;00m \u001B[38;5;167;01mException\u001B[39;00m \u001B[38;5;28;01mas\u001B[39;00m e:\n\u001B[1;32m    119\u001B[0m     filtered_tb \u001B[38;5;241m=\u001B[39m _process_traceback_frames(e\u001B[38;5;241m.\u001B[39m__traceback__)\n",
      "File \u001B[0;32m~/.local/lib/python3.10/site-packages/keras/src/backend/tensorflow/trainer.py:437\u001B[0m, in \u001B[0;36mTensorFlowTrainer.evaluate\u001B[0;34m(self, x, y, batch_size, verbose, sample_weight, steps, callbacks, return_dict, **kwargs)\u001B[0m\n\u001B[1;32m    435\u001B[0m \u001B[38;5;28;01mfor\u001B[39;00m step, iterator \u001B[38;5;129;01min\u001B[39;00m epoch_iterator\u001B[38;5;241m.\u001B[39menumerate_epoch():\n\u001B[1;32m    436\u001B[0m     callbacks\u001B[38;5;241m.\u001B[39mon_test_batch_begin(step)\n\u001B[0;32m--> 437\u001B[0m     logs \u001B[38;5;241m=\u001B[39m \u001B[38;5;28;43mself\u001B[39;49m\u001B[38;5;241;43m.\u001B[39;49m\u001B[43mtest_function\u001B[49m\u001B[43m(\u001B[49m\u001B[43miterator\u001B[49m\u001B[43m)\u001B[49m\n\u001B[1;32m    438\u001B[0m     callbacks\u001B[38;5;241m.\u001B[39mon_test_batch_end(step, \u001B[38;5;28mself\u001B[39m\u001B[38;5;241m.\u001B[39m_pythonify_logs(logs))\n\u001B[1;32m    439\u001B[0m     \u001B[38;5;28;01mif\u001B[39;00m \u001B[38;5;28mself\u001B[39m\u001B[38;5;241m.\u001B[39mstop_evaluating:\n",
      "File \u001B[0;32m~/.local/lib/python3.10/site-packages/tensorflow/python/util/traceback_utils.py:150\u001B[0m, in \u001B[0;36mfilter_traceback.<locals>.error_handler\u001B[0;34m(*args, **kwargs)\u001B[0m\n\u001B[1;32m    148\u001B[0m filtered_tb \u001B[38;5;241m=\u001B[39m \u001B[38;5;28;01mNone\u001B[39;00m\n\u001B[1;32m    149\u001B[0m \u001B[38;5;28;01mtry\u001B[39;00m:\n\u001B[0;32m--> 150\u001B[0m   \u001B[38;5;28;01mreturn\u001B[39;00m \u001B[43mfn\u001B[49m\u001B[43m(\u001B[49m\u001B[38;5;241;43m*\u001B[39;49m\u001B[43margs\u001B[49m\u001B[43m,\u001B[49m\u001B[43m \u001B[49m\u001B[38;5;241;43m*\u001B[39;49m\u001B[38;5;241;43m*\u001B[39;49m\u001B[43mkwargs\u001B[49m\u001B[43m)\u001B[49m\n\u001B[1;32m    151\u001B[0m \u001B[38;5;28;01mexcept\u001B[39;00m \u001B[38;5;167;01mException\u001B[39;00m \u001B[38;5;28;01mas\u001B[39;00m e:\n\u001B[1;32m    152\u001B[0m   filtered_tb \u001B[38;5;241m=\u001B[39m _process_traceback_frames(e\u001B[38;5;241m.\u001B[39m__traceback__)\n",
      "File \u001B[0;32m~/.local/lib/python3.10/site-packages/tensorflow/python/eager/polymorphic_function/polymorphic_function.py:833\u001B[0m, in \u001B[0;36mFunction.__call__\u001B[0;34m(self, *args, **kwds)\u001B[0m\n\u001B[1;32m    830\u001B[0m compiler \u001B[38;5;241m=\u001B[39m \u001B[38;5;124m\"\u001B[39m\u001B[38;5;124mxla\u001B[39m\u001B[38;5;124m\"\u001B[39m \u001B[38;5;28;01mif\u001B[39;00m \u001B[38;5;28mself\u001B[39m\u001B[38;5;241m.\u001B[39m_jit_compile \u001B[38;5;28;01melse\u001B[39;00m \u001B[38;5;124m\"\u001B[39m\u001B[38;5;124mnonXla\u001B[39m\u001B[38;5;124m\"\u001B[39m\n\u001B[1;32m    832\u001B[0m \u001B[38;5;28;01mwith\u001B[39;00m OptionalXlaContext(\u001B[38;5;28mself\u001B[39m\u001B[38;5;241m.\u001B[39m_jit_compile):\n\u001B[0;32m--> 833\u001B[0m   result \u001B[38;5;241m=\u001B[39m \u001B[38;5;28;43mself\u001B[39;49m\u001B[38;5;241;43m.\u001B[39;49m\u001B[43m_call\u001B[49m\u001B[43m(\u001B[49m\u001B[38;5;241;43m*\u001B[39;49m\u001B[43margs\u001B[49m\u001B[43m,\u001B[49m\u001B[43m \u001B[49m\u001B[38;5;241;43m*\u001B[39;49m\u001B[38;5;241;43m*\u001B[39;49m\u001B[43mkwds\u001B[49m\u001B[43m)\u001B[49m\n\u001B[1;32m    835\u001B[0m new_tracing_count \u001B[38;5;241m=\u001B[39m \u001B[38;5;28mself\u001B[39m\u001B[38;5;241m.\u001B[39mexperimental_get_tracing_count()\n\u001B[1;32m    836\u001B[0m without_tracing \u001B[38;5;241m=\u001B[39m (tracing_count \u001B[38;5;241m==\u001B[39m new_tracing_count)\n",
      "File \u001B[0;32m~/.local/lib/python3.10/site-packages/tensorflow/python/eager/polymorphic_function/polymorphic_function.py:878\u001B[0m, in \u001B[0;36mFunction._call\u001B[0;34m(self, *args, **kwds)\u001B[0m\n\u001B[1;32m    875\u001B[0m \u001B[38;5;28mself\u001B[39m\u001B[38;5;241m.\u001B[39m_lock\u001B[38;5;241m.\u001B[39mrelease()\n\u001B[1;32m    876\u001B[0m \u001B[38;5;66;03m# In this case we have not created variables on the first call. So we can\u001B[39;00m\n\u001B[1;32m    877\u001B[0m \u001B[38;5;66;03m# run the first trace but we should fail if variables are created.\u001B[39;00m\n\u001B[0;32m--> 878\u001B[0m results \u001B[38;5;241m=\u001B[39m \u001B[43mtracing_compilation\u001B[49m\u001B[38;5;241;43m.\u001B[39;49m\u001B[43mcall_function\u001B[49m\u001B[43m(\u001B[49m\n\u001B[1;32m    879\u001B[0m \u001B[43m    \u001B[49m\u001B[43margs\u001B[49m\u001B[43m,\u001B[49m\u001B[43m \u001B[49m\u001B[43mkwds\u001B[49m\u001B[43m,\u001B[49m\u001B[43m \u001B[49m\u001B[38;5;28;43mself\u001B[39;49m\u001B[38;5;241;43m.\u001B[39;49m\u001B[43m_variable_creation_config\u001B[49m\n\u001B[1;32m    880\u001B[0m \u001B[43m\u001B[49m\u001B[43m)\u001B[49m\n\u001B[1;32m    881\u001B[0m \u001B[38;5;28;01mif\u001B[39;00m \u001B[38;5;28mself\u001B[39m\u001B[38;5;241m.\u001B[39m_created_variables:\n\u001B[1;32m    882\u001B[0m   \u001B[38;5;28;01mraise\u001B[39;00m \u001B[38;5;167;01mValueError\u001B[39;00m(\u001B[38;5;124m\"\u001B[39m\u001B[38;5;124mCreating variables on a non-first call to a function\u001B[39m\u001B[38;5;124m\"\u001B[39m\n\u001B[1;32m    883\u001B[0m                    \u001B[38;5;124m\"\u001B[39m\u001B[38;5;124m decorated with tf.function.\u001B[39m\u001B[38;5;124m\"\u001B[39m)\n",
      "File \u001B[0;32m~/.local/lib/python3.10/site-packages/tensorflow/python/eager/polymorphic_function/tracing_compilation.py:139\u001B[0m, in \u001B[0;36mcall_function\u001B[0;34m(args, kwargs, tracing_options)\u001B[0m\n\u001B[1;32m    137\u001B[0m bound_args \u001B[38;5;241m=\u001B[39m function\u001B[38;5;241m.\u001B[39mfunction_type\u001B[38;5;241m.\u001B[39mbind(\u001B[38;5;241m*\u001B[39margs, \u001B[38;5;241m*\u001B[39m\u001B[38;5;241m*\u001B[39mkwargs)\n\u001B[1;32m    138\u001B[0m flat_inputs \u001B[38;5;241m=\u001B[39m function\u001B[38;5;241m.\u001B[39mfunction_type\u001B[38;5;241m.\u001B[39munpack_inputs(bound_args)\n\u001B[0;32m--> 139\u001B[0m \u001B[38;5;28;01mreturn\u001B[39;00m \u001B[43mfunction\u001B[49m\u001B[38;5;241;43m.\u001B[39;49m\u001B[43m_call_flat\u001B[49m\u001B[43m(\u001B[49m\u001B[43m  \u001B[49m\u001B[38;5;66;43;03m# pylint: disable=protected-access\u001B[39;49;00m\n\u001B[1;32m    140\u001B[0m \u001B[43m    \u001B[49m\u001B[43mflat_inputs\u001B[49m\u001B[43m,\u001B[49m\u001B[43m \u001B[49m\u001B[43mcaptured_inputs\u001B[49m\u001B[38;5;241;43m=\u001B[39;49m\u001B[43mfunction\u001B[49m\u001B[38;5;241;43m.\u001B[39;49m\u001B[43mcaptured_inputs\u001B[49m\n\u001B[1;32m    141\u001B[0m \u001B[43m\u001B[49m\u001B[43m)\u001B[49m\n",
      "File \u001B[0;32m~/.local/lib/python3.10/site-packages/tensorflow/python/eager/polymorphic_function/concrete_function.py:1322\u001B[0m, in \u001B[0;36mConcreteFunction._call_flat\u001B[0;34m(self, tensor_inputs, captured_inputs)\u001B[0m\n\u001B[1;32m   1318\u001B[0m possible_gradient_type \u001B[38;5;241m=\u001B[39m gradients_util\u001B[38;5;241m.\u001B[39mPossibleTapeGradientTypes(args)\n\u001B[1;32m   1319\u001B[0m \u001B[38;5;28;01mif\u001B[39;00m (possible_gradient_type \u001B[38;5;241m==\u001B[39m gradients_util\u001B[38;5;241m.\u001B[39mPOSSIBLE_GRADIENT_TYPES_NONE\n\u001B[1;32m   1320\u001B[0m     \u001B[38;5;129;01mand\u001B[39;00m executing_eagerly):\n\u001B[1;32m   1321\u001B[0m   \u001B[38;5;66;03m# No tape is watching; skip to running the function.\u001B[39;00m\n\u001B[0;32m-> 1322\u001B[0m   \u001B[38;5;28;01mreturn\u001B[39;00m \u001B[38;5;28;43mself\u001B[39;49m\u001B[38;5;241;43m.\u001B[39;49m\u001B[43m_inference_function\u001B[49m\u001B[38;5;241;43m.\u001B[39;49m\u001B[43mcall_preflattened\u001B[49m\u001B[43m(\u001B[49m\u001B[43margs\u001B[49m\u001B[43m)\u001B[49m\n\u001B[1;32m   1323\u001B[0m forward_backward \u001B[38;5;241m=\u001B[39m \u001B[38;5;28mself\u001B[39m\u001B[38;5;241m.\u001B[39m_select_forward_and_backward_functions(\n\u001B[1;32m   1324\u001B[0m     args,\n\u001B[1;32m   1325\u001B[0m     possible_gradient_type,\n\u001B[1;32m   1326\u001B[0m     executing_eagerly)\n\u001B[1;32m   1327\u001B[0m forward_function, args_with_tangents \u001B[38;5;241m=\u001B[39m forward_backward\u001B[38;5;241m.\u001B[39mforward()\n",
      "File \u001B[0;32m~/.local/lib/python3.10/site-packages/tensorflow/python/eager/polymorphic_function/atomic_function.py:216\u001B[0m, in \u001B[0;36mAtomicFunction.call_preflattened\u001B[0;34m(self, args)\u001B[0m\n\u001B[1;32m    214\u001B[0m \u001B[38;5;28;01mdef\u001B[39;00m \u001B[38;5;21mcall_preflattened\u001B[39m(\u001B[38;5;28mself\u001B[39m, args: Sequence[core\u001B[38;5;241m.\u001B[39mTensor]) \u001B[38;5;241m-\u001B[39m\u001B[38;5;241m>\u001B[39m Any:\n\u001B[1;32m    215\u001B[0m \u001B[38;5;250m  \u001B[39m\u001B[38;5;124;03m\"\"\"Calls with flattened tensor inputs and returns the structured output.\"\"\"\u001B[39;00m\n\u001B[0;32m--> 216\u001B[0m   flat_outputs \u001B[38;5;241m=\u001B[39m \u001B[38;5;28;43mself\u001B[39;49m\u001B[38;5;241;43m.\u001B[39;49m\u001B[43mcall_flat\u001B[49m\u001B[43m(\u001B[49m\u001B[38;5;241;43m*\u001B[39;49m\u001B[43margs\u001B[49m\u001B[43m)\u001B[49m\n\u001B[1;32m    217\u001B[0m   \u001B[38;5;28;01mreturn\u001B[39;00m \u001B[38;5;28mself\u001B[39m\u001B[38;5;241m.\u001B[39mfunction_type\u001B[38;5;241m.\u001B[39mpack_output(flat_outputs)\n",
      "File \u001B[0;32m~/.local/lib/python3.10/site-packages/tensorflow/python/eager/polymorphic_function/atomic_function.py:251\u001B[0m, in \u001B[0;36mAtomicFunction.call_flat\u001B[0;34m(self, *args)\u001B[0m\n\u001B[1;32m    249\u001B[0m \u001B[38;5;28;01mwith\u001B[39;00m record\u001B[38;5;241m.\u001B[39mstop_recording():\n\u001B[1;32m    250\u001B[0m   \u001B[38;5;28;01mif\u001B[39;00m \u001B[38;5;28mself\u001B[39m\u001B[38;5;241m.\u001B[39m_bound_context\u001B[38;5;241m.\u001B[39mexecuting_eagerly():\n\u001B[0;32m--> 251\u001B[0m     outputs \u001B[38;5;241m=\u001B[39m \u001B[38;5;28;43mself\u001B[39;49m\u001B[38;5;241;43m.\u001B[39;49m\u001B[43m_bound_context\u001B[49m\u001B[38;5;241;43m.\u001B[39;49m\u001B[43mcall_function\u001B[49m\u001B[43m(\u001B[49m\n\u001B[1;32m    252\u001B[0m \u001B[43m        \u001B[49m\u001B[38;5;28;43mself\u001B[39;49m\u001B[38;5;241;43m.\u001B[39;49m\u001B[43mname\u001B[49m\u001B[43m,\u001B[49m\n\u001B[1;32m    253\u001B[0m \u001B[43m        \u001B[49m\u001B[38;5;28;43mlist\u001B[39;49m\u001B[43m(\u001B[49m\u001B[43margs\u001B[49m\u001B[43m)\u001B[49m\u001B[43m,\u001B[49m\n\u001B[1;32m    254\u001B[0m \u001B[43m        \u001B[49m\u001B[38;5;28;43mlen\u001B[39;49m\u001B[43m(\u001B[49m\u001B[38;5;28;43mself\u001B[39;49m\u001B[38;5;241;43m.\u001B[39;49m\u001B[43mfunction_type\u001B[49m\u001B[38;5;241;43m.\u001B[39;49m\u001B[43mflat_outputs\u001B[49m\u001B[43m)\u001B[49m\u001B[43m,\u001B[49m\n\u001B[1;32m    255\u001B[0m \u001B[43m    \u001B[49m\u001B[43m)\u001B[49m\n\u001B[1;32m    256\u001B[0m   \u001B[38;5;28;01melse\u001B[39;00m:\n\u001B[1;32m    257\u001B[0m     outputs \u001B[38;5;241m=\u001B[39m make_call_op_in_graph(\n\u001B[1;32m    258\u001B[0m         \u001B[38;5;28mself\u001B[39m,\n\u001B[1;32m    259\u001B[0m         \u001B[38;5;28mlist\u001B[39m(args),\n\u001B[1;32m    260\u001B[0m         \u001B[38;5;28mself\u001B[39m\u001B[38;5;241m.\u001B[39m_bound_context\u001B[38;5;241m.\u001B[39mfunction_call_options\u001B[38;5;241m.\u001B[39mas_attrs(),\n\u001B[1;32m    261\u001B[0m     )\n",
      "File \u001B[0;32m~/.local/lib/python3.10/site-packages/tensorflow/python/eager/context.py:1500\u001B[0m, in \u001B[0;36mContext.call_function\u001B[0;34m(self, name, tensor_inputs, num_outputs)\u001B[0m\n\u001B[1;32m   1498\u001B[0m cancellation_context \u001B[38;5;241m=\u001B[39m cancellation\u001B[38;5;241m.\u001B[39mcontext()\n\u001B[1;32m   1499\u001B[0m \u001B[38;5;28;01mif\u001B[39;00m cancellation_context \u001B[38;5;129;01mis\u001B[39;00m \u001B[38;5;28;01mNone\u001B[39;00m:\n\u001B[0;32m-> 1500\u001B[0m   outputs \u001B[38;5;241m=\u001B[39m \u001B[43mexecute\u001B[49m\u001B[38;5;241;43m.\u001B[39;49m\u001B[43mexecute\u001B[49m\u001B[43m(\u001B[49m\n\u001B[1;32m   1501\u001B[0m \u001B[43m      \u001B[49m\u001B[43mname\u001B[49m\u001B[38;5;241;43m.\u001B[39;49m\u001B[43mdecode\u001B[49m\u001B[43m(\u001B[49m\u001B[38;5;124;43m\"\u001B[39;49m\u001B[38;5;124;43mutf-8\u001B[39;49m\u001B[38;5;124;43m\"\u001B[39;49m\u001B[43m)\u001B[49m\u001B[43m,\u001B[49m\n\u001B[1;32m   1502\u001B[0m \u001B[43m      \u001B[49m\u001B[43mnum_outputs\u001B[49m\u001B[38;5;241;43m=\u001B[39;49m\u001B[43mnum_outputs\u001B[49m\u001B[43m,\u001B[49m\n\u001B[1;32m   1503\u001B[0m \u001B[43m      \u001B[49m\u001B[43minputs\u001B[49m\u001B[38;5;241;43m=\u001B[39;49m\u001B[43mtensor_inputs\u001B[49m\u001B[43m,\u001B[49m\n\u001B[1;32m   1504\u001B[0m \u001B[43m      \u001B[49m\u001B[43mattrs\u001B[49m\u001B[38;5;241;43m=\u001B[39;49m\u001B[43mattrs\u001B[49m\u001B[43m,\u001B[49m\n\u001B[1;32m   1505\u001B[0m \u001B[43m      \u001B[49m\u001B[43mctx\u001B[49m\u001B[38;5;241;43m=\u001B[39;49m\u001B[38;5;28;43mself\u001B[39;49m\u001B[43m,\u001B[49m\n\u001B[1;32m   1506\u001B[0m \u001B[43m  \u001B[49m\u001B[43m)\u001B[49m\n\u001B[1;32m   1507\u001B[0m \u001B[38;5;28;01melse\u001B[39;00m:\n\u001B[1;32m   1508\u001B[0m   outputs \u001B[38;5;241m=\u001B[39m execute\u001B[38;5;241m.\u001B[39mexecute_with_cancellation(\n\u001B[1;32m   1509\u001B[0m       name\u001B[38;5;241m.\u001B[39mdecode(\u001B[38;5;124m\"\u001B[39m\u001B[38;5;124mutf-8\u001B[39m\u001B[38;5;124m\"\u001B[39m),\n\u001B[1;32m   1510\u001B[0m       num_outputs\u001B[38;5;241m=\u001B[39mnum_outputs,\n\u001B[0;32m   (...)\u001B[0m\n\u001B[1;32m   1514\u001B[0m       cancellation_manager\u001B[38;5;241m=\u001B[39mcancellation_context,\n\u001B[1;32m   1515\u001B[0m   )\n",
      "File \u001B[0;32m~/.local/lib/python3.10/site-packages/tensorflow/python/eager/execute.py:53\u001B[0m, in \u001B[0;36mquick_execute\u001B[0;34m(op_name, num_outputs, inputs, attrs, ctx, name)\u001B[0m\n\u001B[1;32m     51\u001B[0m \u001B[38;5;28;01mtry\u001B[39;00m:\n\u001B[1;32m     52\u001B[0m   ctx\u001B[38;5;241m.\u001B[39mensure_initialized()\n\u001B[0;32m---> 53\u001B[0m   tensors \u001B[38;5;241m=\u001B[39m \u001B[43mpywrap_tfe\u001B[49m\u001B[38;5;241;43m.\u001B[39;49m\u001B[43mTFE_Py_Execute\u001B[49m\u001B[43m(\u001B[49m\u001B[43mctx\u001B[49m\u001B[38;5;241;43m.\u001B[39;49m\u001B[43m_handle\u001B[49m\u001B[43m,\u001B[49m\u001B[43m \u001B[49m\u001B[43mdevice_name\u001B[49m\u001B[43m,\u001B[49m\u001B[43m \u001B[49m\u001B[43mop_name\u001B[49m\u001B[43m,\u001B[49m\n\u001B[1;32m     54\u001B[0m \u001B[43m                                      \u001B[49m\u001B[43minputs\u001B[49m\u001B[43m,\u001B[49m\u001B[43m \u001B[49m\u001B[43mattrs\u001B[49m\u001B[43m,\u001B[49m\u001B[43m \u001B[49m\u001B[43mnum_outputs\u001B[49m\u001B[43m)\u001B[49m\n\u001B[1;32m     55\u001B[0m \u001B[38;5;28;01mexcept\u001B[39;00m core\u001B[38;5;241m.\u001B[39m_NotOkStatusException \u001B[38;5;28;01mas\u001B[39;00m e:\n\u001B[1;32m     56\u001B[0m   \u001B[38;5;28;01mif\u001B[39;00m name \u001B[38;5;129;01mis\u001B[39;00m \u001B[38;5;129;01mnot\u001B[39;00m \u001B[38;5;28;01mNone\u001B[39;00m:\n",
      "\u001B[0;31mKeyboardInterrupt\u001B[0m: "
     ]
    }
   ],
   "source": [
    "import keras\n",
    "\n",
    "restored_model = keras.models.load_model(\"models/bert_classifier.keras\")\n",
    "# restored_model.evaluate(test_ds)"
   ],
   "metadata": {
    "collapsed": false,
    "ExecuteTime": {
     "end_time": "2024-04-04T17:26:41.367474500Z",
     "start_time": "2024-04-04T17:26:16.058646500Z"
    }
   }
  },
  {
   "cell_type": "code",
   "execution_count": 10,
   "outputs": [
    {
     "name": "stdout",
     "output_type": "stream",
     "text": [
      "(<tf.Tensor: shape=(4,), dtype=string, numpy=\n",
      "array([b'A girl is entertaining on stage',\n",
      "       b'A group of people posing in front of a body of water.',\n",
      "       b\"The group of people aren't inide of the building.\",\n",
      "       b'The people are taking a carriage ride.'], dtype=object)>, <tf.Tensor: shape=(4,), dtype=string, numpy=\n",
      "array([b'A girl in a blue leotard hula hoops on a stage with balloon shapes in the background.',\n",
      "       b'A group of people taking pictures on a walkway in front of a large body of water.',\n",
      "       b'Many people standing outside of a place talking to each other in front of a building that has a sign that says \"HI-POINTE.\"',\n",
      "       b'Three people are riding a carriage pulled by four horses.'],\n",
      "      dtype=object)>)\n"
     ]
    }
   ],
   "source": [
    "print((sample[\"hypothesis\"], sample[\"premise\"]))"
   ],
   "metadata": {
    "collapsed": false,
    "ExecuteTime": {
     "end_time": "2024-04-04T17:27:06.982294400Z",
     "start_time": "2024-04-04T17:27:06.929083800Z"
    }
   }
  },
  {
   "cell_type": "code",
   "execution_count": 9,
   "outputs": [
    {
     "name": "stdout",
     "output_type": "stream",
     "text": [
      "\u001B[1m1/1\u001B[0m \u001B[32m━━━━━━━━━━━━━━━━━━━━\u001B[0m\u001B[37m\u001B[0m \u001B[1m1s\u001B[0m 854ms/step\n",
      "[[0.1605997  0.5688096  0.04371636]\n",
      " [0.49701223 0.13395983 0.06036862]\n",
      " [0.03271612 0.15026565 0.8166039 ]\n",
      " [0.30967197 0.14696485 0.07931111]]\n"
     ]
    }
   ],
   "source": [
    "import numpy as np\n",
    "\n",
    "predictions = restored_model.predict((sample[\"hypothesis\"], sample[\"premise\"]))\n",
    "\n",
    "\n",
    "def softmax(x):\n",
    "    return np.exp(x) / np.exp(x).sum(axis=0)\n",
    "\n",
    "\n",
    "# Get the class predictions with maximum probabilities\n",
    "predictions = softmax(predictions)\n",
    "print(predictions)"
   ],
   "metadata": {
    "collapsed": false,
    "ExecuteTime": {
     "end_time": "2024-04-04T17:26:45.350875Z",
     "start_time": "2024-04-04T17:26:43.758817Z"
    }
   }
  },
  {
   "cell_type": "code",
   "execution_count": 16,
   "outputs": [
    {
     "data": {
      "text/plain": "(<tf.Tensor: shape=(4,), dtype=string, numpy=\n array([b'A girl is entertaining on stage',\n        b'A group of people posing in front of a body of water.',\n        b\"The group of people aren't inide of the building.\",\n        b'The people are taking a carriage ride.'], dtype=object)>,\n <tf.Tensor: shape=(4,), dtype=string, numpy=\n array([b'A girl in a blue leotard hula hoops on a stage with balloon shapes in the background.',\n        b'A group of people taking pictures on a walkway in front of a large body of water.',\n        b'Many people standing outside of a place talking to each other in front of a building that has a sign that says \"HI-POINTE.\"',\n        b'Three people are riding a carriage pulled by four horses.'],\n       dtype=object)>)"
     },
     "execution_count": 16,
     "metadata": {},
     "output_type": "execute_result"
    }
   ],
   "source": [
    "(sample[\"hypothesis\"], sample[\"premise\"])"
   ],
   "metadata": {
    "collapsed": false,
    "ExecuteTime": {
     "end_time": "2024-03-31T09:03:21.678843300Z",
     "start_time": "2024-03-31T09:03:21.622207300Z"
    }
   }
  },
  {
   "cell_type": "code",
   "execution_count": 17,
   "outputs": [
    {
     "name": "stdout",
     "output_type": "stream",
     "text": [
      "tf.Tensor([0 0 0 0], shape=(4,), dtype=int64)\n"
     ]
    }
   ],
   "source": [
    "print(sample[\"label\"])"
   ],
   "metadata": {
    "collapsed": false,
    "ExecuteTime": {
     "end_time": "2024-03-31T09:04:41.393292200Z",
     "start_time": "2024-03-31T09:04:41.377291100Z"
    }
   }
  },
  {
   "cell_type": "code",
   "execution_count": 25,
   "outputs": [
    {
     "name": "stdout",
     "output_type": "stream",
     "text": [
      "{'hypothesis': <tf.Tensor: shape=(4,), dtype=string, numpy=\n",
      "array([b'A girl is entertaining on stage',\n",
      "       b'A group of people posing in front of a body of water.',\n",
      "       b\"The group of people aren't inide of the building.\",\n",
      "       b'The people are taking a carriage ride.'], dtype=object)>, 'label': <tf.Tensor: shape=(4,), dtype=int64, numpy=array([0, 0, 0, 0])>, 'premise': <tf.Tensor: shape=(4,), dtype=string, numpy=\n",
      "array([b'A girl in a blue leotard hula hoops on a stage with balloon shapes in the background.',\n",
      "       b'A group of people taking pictures on a walkway in front of a large body of water.',\n",
      "       b'Many people standing outside of a place talking to each other in front of a building that has a sign that says \"HI-POINTE.\"',\n",
      "       b'Three people are riding a carriage pulled by four horses.'],\n",
      "      dtype=object)>}\n",
      "{'hypothesis': <tf.Tensor: shape=(4,), dtype=string, numpy=\n",
      "array([b'Two girls are getting ready to ride horses.',\n",
      "       b'Two youths were pushing each other.',\n",
      "       b'A child takes a nap on a couch.',\n",
      "       b'A boy in light green pajamas plays.'], dtype=object)>, 'label': <tf.Tensor: shape=(4,), dtype=int64, numpy=array([1, 2, 2, 1])>, 'premise': <tf.Tensor: shape=(4,), dtype=string, numpy=\n",
      "array([b'Two girls feeding a horse an apple.',\n",
      "       b'2 kids who look related are hanging out with 1 of them looking very emotional and hugging the other.',\n",
      "       b'A young blond child wearing a black shirt and white shorts looks at the sky with a bridge and water in the background.',\n",
      "       b'Boy in green pajamas play with his toy while his mother sits on the couch and watches him.'],\n",
      "      dtype=object)>}\n",
      "{'hypothesis': <tf.Tensor: shape=(4,), dtype=string, numpy=\n",
      "array([b'A person is consuming food.', b'The boy is wearing a backpack.',\n",
      "       b'The man enjoys dogs.',\n",
      "       b'A man is pointing into the ear and wearing a striped shirt.'],\n",
      "      dtype=object)>, 'label': <tf.Tensor: shape=(4,), dtype=int64, numpy=array([0, 0, 1, 0])>, 'premise': <tf.Tensor: shape=(4,), dtype=string, numpy=\n",
      "array([b'The man white purple and white polka-dotted shirts is eating and looking to his right while the woman behind him has a confused look on her face.',\n",
      "       b'Boy in backpack crossing the street, Other people, all Asian, are all in crosswalk walking towards the boy.',\n",
      "       b'A man in a grassy field throws a stick for a group of three brown dogs.',\n",
      "       b'A man pointing into the ear wearing a striped shirt in a small boat filled with many people.'],\n",
      "      dtype=object)>}\n"
     ]
    },
    {
     "name": "stderr",
     "output_type": "stream",
     "text": [
      "2024-03-31 12:07:11.833446: W tensorflow/core/framework/local_rendezvous.cc:404] Local rendezvous is aborting with status: OUT_OF_RANGE: End of sequence\n"
     ]
    }
   ],
   "source": [
    "sample = snli_test.batch(4).take(3)\n",
    "for el in sample:\n",
    "    print(el)"
   ],
   "metadata": {
    "collapsed": false,
    "ExecuteTime": {
     "end_time": "2024-03-31T09:07:11.884985500Z",
     "start_time": "2024-03-31T09:07:11.809658500Z"
    }
   }
  },
  {
   "cell_type": "code",
   "execution_count": 30,
   "outputs": [
    {
     "name": "stdout",
     "output_type": "stream",
     "text": [
      "['christmas tree on a black background .', 'item : drawing of a figure surrounded by person', 'the sidewalk near the corner of streets has one of the few vending machines .', 'actor attends the season premiere', 'another possible invitation -- love the font , just need to switch to coral and aqua colors']\n",
      "['christmas tree,christmas decoration,font,text,graphic design,illustration,interior design,tree,christmas eve,ornament,fir,plant,pine,pine family,graphics', 'drawing,modern art,line,visual arts,art,sketch,artwork,photographic paper,painting,illustration,black-and-white', 'mode of transport,transport,vehicle,street,neighbourhood,road surface,advertising,automotive exterior,asphalt,signage,sign,road,truck,car,city', 'musician,premiere,event,singer,suit,performance', 'text,font,material property,label']\n"
     ]
    }
   ],
   "source": [
    "print(df_chunks().read(5)[0].tolist())\n",
    "print(df_chunks().read(5)[2].tolist())"
   ],
   "metadata": {
    "collapsed": false,
    "ExecuteTime": {
     "end_time": "2024-03-31T09:12:01.273490300Z",
     "start_time": "2024-03-31T09:12:01.199600100Z"
    }
   }
  },
  {
   "cell_type": "code",
   "execution_count": 13,
   "outputs": [
    {
     "name": "stdout",
     "output_type": "stream",
     "text": [
      "(['christmas tree on a black background .', 'item : drawing of a figure surrounded by person', 'the sidewalk near the corner of streets has one of the few vending machines .', 'actor attends the season premiere', 'another possible invitation -- love the font , just need to switch to coral and aqua colors'], ['christmas tree,christmas decoration,font,text,graphic design,illustration,interior design,tree,christmas eve,ornament,fir,plant,pine,pine family,graphics', 'drawing,modern art,line,visual arts,art,sketch,artwork,photographic paper,painting,illustration,black-and-white', 'mode of transport,transport,vehicle,street,neighbourhood,road surface,advertising,automotive exterior,asphalt,signage,sign,road,truck,car,city', 'musician,premiere,event,singer,suit,performance', 'text,font,material property,label'])\n"
     ]
    }
   ],
   "source": [
    "print((df_chunks().read(5)[0].tolist(), df_chunks().read(5)[2].tolist()))"
   ],
   "metadata": {
    "collapsed": false,
    "ExecuteTime": {
     "end_time": "2024-04-04T18:21:19.986923600Z",
     "start_time": "2024-04-04T18:21:19.924491800Z"
    }
   }
  },
  {
   "cell_type": "code",
   "execution_count": 31,
   "outputs": [
    {
     "name": "stdout",
     "output_type": "stream",
     "text": [
      "\u001B[1m1/1\u001B[0m \u001B[32m━━━━━━━━━━━━━━━━━━━━\u001B[0m\u001B[37m\u001B[0m \u001B[1m1s\u001B[0m 907ms/step\n",
      "[[0.0110986  0.3454727  0.4590159 ]\n",
      " [0.6146138  0.05491738 0.07915103]\n",
      " [0.20336917 0.11330616 0.1057053 ]\n",
      " [0.15276171 0.16087724 0.08710521]\n",
      " [0.01815683 0.32542652 0.2690226 ]]\n"
     ]
    }
   ],
   "source": [
    "predictions = restored_model.predict((df_chunks().read(5)[0].tolist(), df_chunks().read(5)[2].tolist()))\n",
    "\n",
    "\n",
    "def softmax(x):\n",
    "    return np.exp(x) / np.exp(x).sum(axis=0)\n",
    "\n",
    "\n",
    "# Get the class predictions with maximum probabilities\n",
    "predictions = softmax(predictions)\n",
    "print(predictions)"
   ],
   "metadata": {
    "collapsed": false,
    "ExecuteTime": {
     "end_time": "2024-03-31T09:12:48.154233300Z",
     "start_time": "2024-03-31T09:12:46.485943200Z"
    }
   }
  },
  {
   "cell_type": "code",
   "execution_count": 32,
   "outputs": [
    {
     "name": "stderr",
     "output_type": "stream",
     "text": [
      "\u001B[32m2024-03-31 12:18:37,810 - INFO - Load dataset info from /home/emiliia/tensorflow_datasets/snli/1.1.0\u001B[0m\n"
     ]
    }
   ],
   "source": [
    "dataset_info = tfds.builder(\"snli\")\n",
    "class_names = dataset_info.info.features['label'].names"
   ],
   "metadata": {
    "collapsed": false,
    "ExecuteTime": {
     "end_time": "2024-03-31T09:18:37.830568600Z",
     "start_time": "2024-03-31T09:18:37.808898500Z"
    }
   }
  },
  {
   "cell_type": "code",
   "execution_count": 33,
   "outputs": [
    {
     "name": "stdout",
     "output_type": "stream",
     "text": [
      "['entailment', 'neutral', 'contradiction']\n"
     ]
    }
   ],
   "source": [
    "print(class_names)"
   ],
   "metadata": {
    "collapsed": false,
    "ExecuteTime": {
     "end_time": "2024-03-31T09:18:46.017848Z",
     "start_time": "2024-03-31T09:18:46.000156900Z"
    }
   }
  },
  {
   "cell_type": "code",
   "execution_count": null,
   "outputs": [],
   "source": [],
   "metadata": {
    "collapsed": false
   }
  }
 ],
 "metadata": {
  "kernelspec": {
   "display_name": "Python 3",
   "language": "python",
   "name": "python3"
  },
  "language_info": {
   "codemirror_mode": {
    "name": "ipython",
    "version": 2
   },
   "file_extension": ".py",
   "mimetype": "text/x-python",
   "name": "python",
   "nbconvert_exporter": "python",
   "pygments_lexer": "ipython2",
   "version": "2.7.6"
  }
 },
 "nbformat": 4,
 "nbformat_minor": 0
}
